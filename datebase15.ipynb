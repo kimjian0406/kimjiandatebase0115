{
  "nbformat": 4,
  "nbformat_minor": 0,
  "metadata": {
    "colab": {
      "provenance": [],
      "authorship_tag": "ABX9TyP/uapHaYlLoE1RLsgxcqsI"
    },
    "kernelspec": {
      "name": "python3",
      "display_name": "Python 3"
    },
    "language_info": {
      "name": "python"
    }
  },
  "cells": [
    {
      "cell_type": "markdown",
      "source": [
        "[문제10]\n",
        "\n",
        "데이터 제어 언어(DCL)인 GRANT에 대한 설명으로 옳은 것을 골라주세요\n",
        "\n",
        "- 사용자에게 특정 작업을 수행할 권한을 부여한다.\n",
        "- 사용자로부터 특정 작업 수행 권한을 제거한다.\n",
        "- 다른 사용자에게 동일한 권한을 전달할때 사용한다.\n",
        "- 부여된 권한 중 일부를 제한할때 사용한다."
      ],
      "metadata": {
        "id": "jvNPao8DreSX"
      }
    },
    {
      "cell_type": "markdown",
      "source": [
        "답변 : 사용자에게 특정 작업을 수행할 권한을 부여한다"
      ],
      "metadata": {
        "id": "s7hNNnrqrw4F"
      }
    },
    {
      "cell_type": "markdown",
      "source": [
        "[문제11]\n",
        "\n",
        "테이블을 생성하기 위해서 사용되는 sql문을 선택해주세요\n",
        "\n",
        "- CREATE TABLE\n",
        "- CREATE NEW TABLE\n",
        "- ADD TABLE\n",
        "- UPDATE TABLE"
      ],
      "metadata": {
        "id": "qgPFbbTJtSj-"
      }
    },
    {
      "cell_type": "markdown",
      "source": [
        "답변 : CREATE NEW TABLE"
      ],
      "metadata": {
        "id": "TcHQ3SNutUmc"
      }
    },
    {
      "cell_type": "markdown",
      "source": [
        "[문제12]\n",
        "\n",
        "테이블 생성 시 컬럼(속성)에 값이 항상 존재하도록 설정하는 명령어를 선택해주세요\n",
        "\n",
        "- IS NULL\n",
        "- NOT NULL\n",
        "- IN NULL\n",
        "- NULL"
      ],
      "metadata": {
        "id": "-iHTkWeztZHu"
      }
    },
    {
      "cell_type": "markdown",
      "source": [
        "답변 : NOT NULL"
      ],
      "metadata": {
        "id": "kltgezcUtmIE"
      }
    },
    {
      "cell_type": "markdown",
      "source": [
        "[문제13]\n",
        "\n",
        "테이블 생성 시 컬럼(속성)에 중복된 값을 허용하지 않도록 설정하는 명령어를 모두 선택해주세요\n",
        "\n",
        "- UNIQUE\n",
        "- DEFAULT False\n",
        "- PRIMARY KEY\n",
        "- AUTO_INCREMENT"
      ],
      "metadata": {
        "id": "EKwF3hXIxFDG"
      }
    },
    {
      "cell_type": "markdown",
      "source": [
        "답변 : UNLQUE , PRIMARY KEY"
      ],
      "metadata": {
        "id": "GyriruvLxGbi"
      }
    },
    {
      "cell_type": "markdown",
      "source": [
        "[문제14]\n",
        "\n",
        "데이터베이스의 숫자형 데이터 타입이 아닌것을 선택해주세요\n",
        "\n",
        "- BIT\n",
        "- INT\n",
        "- CHAR\n",
        "- BIGINT"
      ],
      "metadata": {
        "id": "-bBIK73zxTTr"
      }
    },
    {
      "cell_type": "markdown",
      "source": [
        "답변 : CHAR"
      ],
      "metadata": {
        "id": "OK1XGWTwxU76"
      }
    },
    {
      "cell_type": "markdown",
      "source": [
        "[문제15]\n",
        "\n",
        "날짜와 시간을 같이 나타내는 데이터 타입을 선택해주세요\n",
        "\n",
        "- DATE\n",
        "- TIME\n",
        "- DATETIME\n",
        "\n",
        "답변 : DATETIME"
      ],
      "metadata": {
        "id": "GNsXbB_WxZn6"
      }
    },
    {
      "cell_type": "markdown",
      "source": [
        "[문제16]\n",
        "\n",
        "CHAR과 VARCHAR의 차이로 옳은 것을 선택해 주세요\n",
        "\n",
        "- 저장할 수 있는 데이터 종류(문자, 숫자)가 다름\n",
        "- 데이터를 담을 수 있는 공간이 고정인지 가변인지의 차이\n",
        "- 문자열 값을 정수로 표현할 수 있는지의 차이\n",
        "- 한번 입력된 데이터의 수정 여부의 차이"
      ],
      "metadata": {
        "id": "aRJJYyFRxfmm"
      }
    },
    {
      "cell_type": "markdown",
      "source": [
        "답변 : 데이터를 담을 수 있는 공간이 고정인지 가변인지의 차이"
      ],
      "metadata": {
        "id": "FHDbfLnkxhPp"
      }
    },
    {
      "cell_type": "markdown",
      "source": [
        "[문제17]\n",
        "\n",
        "데이터베이스 내의 트랜잭션을 관리하는데 사용되는 언어를 선택해주세요\n",
        "\n",
        "- DCL\n",
        "- DML\n",
        "- TCL\n",
        "- DDL"
      ],
      "metadata": {
        "id": "jKwT-DgbxoHu"
      }
    },
    {
      "cell_type": "markdown",
      "source": [
        "답변 : TCL"
      ],
      "metadata": {
        "id": "J-WIveorxqFn"
      }
    },
    {
      "cell_type": "markdown",
      "source": [
        "[문제18]\n",
        "\n",
        "칼럼에 저장될 수 있는 값의 범위나 조건을 지정하는 명령어를 선택해주세요\n",
        "\n",
        "- IN\n",
        "- WHERE\n",
        "- CHECK\n",
        "- ON"
      ],
      "metadata": {
        "id": "8LW9mm-Px_9p"
      }
    },
    {
      "cell_type": "markdown",
      "source": [
        "답변 : CHECK"
      ],
      "metadata": {
        "id": "TkI9-kSpyCFz"
      }
    },
    {
      "cell_type": "markdown",
      "source": [
        "#### 프로젝트 개요\n",
        "\n",
        "이 프로젝트는 사용자 정보와 주문 정보를 관리하는 간단한 데이터베이스 시스템을 구축하는 것입니다.\n",
        "\n",
        "이를 통해 MySQL의 사용자 관리, 테이블 생성, 데이터 타입, 제약 조건 등을 실습할 수 있습니다.\n",
        "\n",
        "##### 프로젝트 구성\n",
        "1. MySQL 사용자 생성 및 권한 부여\n",
        "2. 데이터베이스와 테이블 생성"
      ],
      "metadata": {
        "id": "B2lNDYTWyG7S"
      }
    },
    {
      "cell_type": "markdown",
      "source": [
        "#### 과제 1: MySQL 사용자 생성 및 권한 부여\n",
        "\n",
        "목표: MySQL에서 새로운 사용자를 생성하고, 권한을 부여합니다.\n",
        "\n",
        "##### 개념 설명:\n",
        "\n",
        "- MySQL 사용자: 데이터베이스에 접근하고 작업을 수행할 수 있는 계정을 의미합니다.\n",
        "- 권한 부여: 특정 사용자에게 데이터베이스와 테이블에 대해 작업할 수 있는 권한을 부여합니다.\n",
        "\n",
        "1. MySQL에 root 사용자로 로그인\n",
        "MySQL에 로그인하려면 mysql -u root -p 명령어를 사용합니다. 이 명령어는 root 사용자로 MySQL에 로그인하기 위한 명령입니다. 로그인 후 비밀번호를 묻게 됩니다.\n",
        "\n",
        "2. 새로운 MySQL 사용자 생성\n",
        "새로운 MySQL 사용자를 생성하려면 CREATE USER 명령어를 사용합니다. CREATE USER 명령어는 MySQL 서버에 로그인할 수 있는 새로운 계정을 만듭니다.\n",
        "\n",
        "3. 사용자에게 권한 부여\n",
        "새로 만든 사용자에게 권한을 부여하려면 GRANT 명령어를 사용합니다. GRANT 명령어는 특정 사용자에게 데이터베이스와 테이블에 대한 작업 권한을 부여합니다\n",
        "\n",
        "4. 권한 변경 사항 적용\n",
        "권한을 부여한 후에는 변경 사항이 즉시 적용되지 않을 수 있기 때문에 FLUSH PRIVILEGES 명령어를 사용하여 권한을 새로고침해야 합니다.\n",
        "\n",
        "5. 부여된 권한 확인\n",
        "사용자에게 부여된 권한을 확인하려면 SHOW GRANTS 명령어를 사용합니다. 이를 통해 해당 사용자에게 어떤 권한이 부여되었는지 확인할 수 있습니다.\n",
        "\n",
        "6. 현재 로그인된 사용자의 권한 확인\n",
        "현재 로그인된 사용자에게 부여된 권한을 확인하려면 SHOW GRANTS 명령어를 사용할 수 있습니다. 이 명령어는 현재 세션에서 로그인한 사용자에게 부여된 권한을 표시합니다\n",
        "\n",
        "\n",
        "MySQL에서 사용자를 생성하고 권한을 부여하는 과정에 대한 설명입니다. 아래 각 단계별로 자세히 설명드리겠습니다.\n",
        "\n",
        "1. MySQL에 root 사용자로 로그인\n",
        "MySQL에 로그인하려면 mysql -u root -p 명령어를 사용합니다. 이 명령어는 root 사용자로 MySQL에 로그인하기 위한 명령입니다. 로그인 후 비밀번호를 묻게 됩니다.\n",
        "\n",
        "mysql -u root -p\n",
        "-u root: root 사용자로 로그인.\n",
        "-p: 비밀번호를 입력하도록 요청.\n",
        "로그인 후, MySQL 명령줄 인터페이스로 들어가게 됩니다.\n",
        "\n",
        "2. 새로운 MySQL 사용자 생성\n",
        "새로운 MySQL 사용자를 생성하려면 CREATE USER 명령어를 사용합니다. CREATE USER 명령어는 MySQL 서버에 로그인할 수 있는 새로운 계정을 만듭니다.\n",
        "\n",
        "CREATE USER 'username'@'localhost' IDENTIFIED BY 'password';\n",
        "'username': 새로 생성할 사용자의 이름입니다. 예를 들어, fishbread_user와 같은 이름을 사용할 수 있습니다.\n",
        "'localhost': 사용자가 접근할 수 있는 호스트를 지정합니다. 여기서는 로컬에서만 접근할 수 있도록 설정됩니다. 원격 접속을 허용하려면 localhost 대신 '%'를 사용할 수 있습니다.\n",
        "'password': 사용자의 비밀번호를 설정합니다.\n",
        "예시:\n",
        "\n",
        "CREATE USER 'fishbread_user'@'localhost' IDENTIFIED BY 'fish1234';\n",
        "이 명령어는 fishbread_user라는 사용자를 localhost에서만 사용할 수 있도록 생성하고, 비밀번호를 fish1234로 설정합니다.\n",
        "\n",
        "3. 사용자에게 권한 부여\n",
        "새로 만든 사용자에게 권한을 부여하려면 GRANT 명령어를 사용합니다. GRANT 명령어는 특정 사용자에게 데이터베이스와 테이블에 대한 작업 권한을 부여합니다.\n",
        "\n",
        "GRANT ALL PRIVILEGES ON *.* TO 'username'@'localhost';\n",
        "ALL PRIVILEGES: 사용자가 모든 권한을 가질 수 있도록 설정합니다. 즉, 해당 사용자가 데이터베이스 내의 모든 작업(SELECT, INSERT, UPDATE, DELETE, 등)을 수행할 수 있게 됩니다.\n",
        "*.*: 모든 데이터베이스와 테이블을 대상으로 설정합니다. 특정 데이터베이스에만 권한을 부여하려면 database_name.* 형식으로 지정할 수 있습니다.\n",
        "예시:\n",
        "\n",
        "GRANT ALL PRIVILEGES ON *.* TO 'fishbread_user'@'localhost';\n",
        "이 명령어는 fishbread_user 사용자에게 모든 데이터베이스와 테이블에 대한 권한을 부여합니다.\n",
        "\n",
        "4. 권한 변경 사항 적용\n",
        "권한을 부여한 후에는 변경 사항이 즉시 적용되지 않을 수 있기 때문에 FLUSH PRIVILEGES 명령어를 사용하여 권한을 새로고침해야 합니다.\n",
        "\n",
        "FLUSH PRIVILEGES;\n",
        "이 명령어는 MySQL 서버에 변경된 권한 정보를 갱신하도록 지시합니다.\n",
        "\n",
        "5. 부여된 권한 확인\n",
        "사용자에게 부여된 권한을 확인하려면 SHOW GRANTS 명령어를 사용합니다. 이를 통해 해당 사용자에게 어떤 권한이 부여되었는지 확인할 수 있습니다.\n",
        "\n",
        "SHOW GRANTS FOR 'username'@'localhost';\n",
        "예시:\n",
        "\n",
        "SHOW GRANTS FOR 'fishbread_user'@'localhost';\n",
        "이 명령어는 fishbread_user 사용자에게 부여된 권한을 보여줍니다.\n",
        "\n",
        "6. 현재 로그인된 사용자의 권한 확인\n",
        "현재 로그인된 사용자에게 부여된 권한을 확인하려면 SHOW GRANTS 명령어를 사용할 수 있습니다. 이 명령어는 현재 세션에서 로그인한 사용자에게 부여된 권한을 표시합니다.\n",
        "\n",
        "정리\n",
        "CREATE USER 명령어로 새로운 MySQL 사용자를 생성합니다.\n",
        "GRANT 명령어로 사용자에게 권한을 부여합니다.\n",
        "FLUSH PRIVILEGES 명령어로 권한 변경 사항을 적용합니다.\n",
        "SHOW GRANTS 명령어로 부여된 권한을 확인할 수 있습니다.\n",
        "이 과정을 통해 MySQL에서 새로운 사용자를 생성하고, 해당 사용자에게 필요한 권한을 부여할 수 있습니다."
      ],
      "metadata": {
        "id": "LzIa0MgWzsXb"
      }
    },
    {
      "cell_type": "markdown",
      "source": [
        "#### 과제 2: 데이터베이스와 테이블 생성\n",
        "목표: 사용자와 주문 정보를 저장할 데이터베이스와 테이블을 생성합니다.\n",
        "\n",
        "개념 설명:\n",
        "\n",
        "- 데이터베이스: 데이터를 체계적으로 관리하는 공간입니다.\n",
        "- 테이블: 데이터베이스 내에서 데이터를 저장하는 구조입니다.\n",
        "\n",
        "1. 데이터베이스 생성\n",
        "우선 fishbread_db라는 이름의 데이터베이스를 생성합니다.\n",
        "그 후, 생성한 데이터베이스를 사용하기 위해 USE 명령어를 사용합니다.\n",
        "\n",
        "2. users 테이블 생성\n",
        "사용자 정보를 저장할 users 테이블을 생성합니다. 이 테이블에는 사용자 고유 ID, 이름, 나이, 이메일, 사업자 여부를 포함합니다.\n",
        "\n",
        "user_id는 기본 키로 설정하고, 자동 증가(AUTO_INCREMENT)하여 각 사용자마다 고유한 ID가 생성되도록 합니다.\n",
        "name은 사용자 이름을 저장하며, 비어 있을 수 없도록 NOT NULL 제약을 추가합니다.\n",
        "age는 사용자의 나이를 저장하며, 비어 있을 수 없도록 NOT NULL 제약을 추가합니다.\n",
        "email은 사용자의 이메일 주소를 저장하며, 고유해야 하므로 UNIQUE 제약을 추가합니다.\n",
        "is_business는 사용자가 사업자인지 여부를 나타내는 컬럼으로, BOOLEAN 타입을 사용할 수 있습니다.\n",
        "\n",
        "\n",
        "과제 2에서는 데이터베이스 및 테이블을 생성하고, 붕어빵 가게의 사용자 정보, 주문 정보, 재고 정보, 판매 정보, 일 매출 정보 등을 저장하기 위한 구조를 설계합니다. 각 테이블은 서로 관계를 맺으며 데이터를 관리할 수 있도록 설계됩니다.\n",
        "\n",
        "각 단계별로 필요한 명령어와 개념을 다시 한 번 정리하고, 이를 바탕으로 SQL 명령어를 작성하겠습니다.\n",
        "\n",
        "1. 데이터베이스 생성\n",
        "우선 fishbread_db라는 이름의 데이터베이스를 생성합니다.\n",
        "\n",
        "CREATE DATABASE fishbread_db;\n",
        "그 후, 생성한 데이터베이스를 사용하기 위해 USE 명령어를 사용합니다.\n",
        "\n",
        "USE fishbread_db;\n",
        "2. users 테이블 생성\n",
        "사용자 정보를 저장할 users 테이블을 생성합니다. 이 테이블에는 사용자 고유 ID, 이름, 나이, 이메일, 사업자 여부를 포함합니다.\n",
        "user_id는 기본 키로 설정하고, 자동 증가(AUTO_INCREMENT)하여 각 사용자마다 고유한 ID가 생성되도록 합니다.\n",
        "name은 사용자 이름을 저장하며, 비어 있을 수 없도록 NOT NULL 제약을 추가합니다.\n",
        "age는 사용자의 나이를 저장하며, 비어 있을 수 없도록 NOT NULL 제약을 추가합니다.\n",
        "email은 사용자의 이메일 주소를 저장하며, 고유해야 하므로 UNIQUE 제약을 추가합니다.\n",
        "is_business는 사용자가 사업자인지 여부를 나타내는 컬럼으로, BOOLEAN 타입을 사용할 수 있습니다.\n",
        "\n",
        "3. orders 테이블 생성\n",
        "주문 정보를 저장할 orders 테이블을 생성합니다. 이 테이블은 각 주문을 나타내며, 사용자가 누구인지와 주문 날짜 및 금액을 기록합니다.\n",
        "\n",
        "order_id는 기본 키로 설정하고, 자동 증가(AUTO_INCREMENT)하여 각 주문마다 고유한 ID가 생성되도록 합니다.\n",
        "user_id는 users 테이블의 user_id와 연결되는 외래 키(Foreign Key)로 설정합니다. 즉, 주문을 한 사용자를 식별할 수 있습니다.\n",
        "order_date는 주문 날짜를 저장하며, 날짜 형식으로 저장합니다.\n",
        "amount는 주문 금액을 저장합니다.\n",
        "\n",
        "4. inventory 테이블 생성\n",
        "재고 정보를 저장할 inventory 테이블을 생성합니다. 이 테이블은 판매되는 상품의 정보를 포함합니다.\n",
        "\n",
        "item_id는 기본 키로 설정하고, 자동 증가(AUTO_INCREMENT)하여 각 재고 항목마다 고유한 ID가 생성되도록 합니다.\n",
        "item_name은 재고 항목의 이름을 저장합니다.\n",
        "quantity는 해당 항목의 재고 수량을 저장합니다.\n",
        "\n",
        "5. sales 테이블 생성\n",
        "판매 정보를 저장할 sales 테이블을 생성합니다. 이 테이블은 주문과 재고 항목 간의 관계를 나타냅니다.\n",
        "sale_id는 기본 키로 설정하고, 자동 증가(AUTO_INCREMENT)하여 각 판매마다 고유한 ID가 생성되도록 합니다.\n",
        "order_id는 orders 테이블의 order_id와 연결되는 외래 키입니다. 이를 통해 각 판매가 어느 주문에 해당하는지 확인할 수 있습니다.\n",
        "item_id는 inventory 테이블의 item_id와 연결되는 외래 키입니다. 이를 통해 각 판매가 어떤 재고 항목에 해당하는지 확인할 수 있습니다.\n",
        "quantity_sold는 판매된 수량을 저장합니다.\n",
        "\n",
        "6. daily_sales 테이블 생성\n",
        "일 매출 정보를 저장할 daily_sales 테이블을 생성합니다. 이 테이블은 하루 동안의 총 매출을 기록합니다.\n",
        "\n",
        "date는 날짜를 나타내며, 기본 키로 설정하여 하루에 대한 매출 정보를 유일하게 식별합니다.\n",
        "total_sales는 하루 동안의 총 매출 금액을 저장합니다.\n",
        "\n"
      ],
      "metadata": {
        "id": "f6dQDsQI0NIb"
      }
    },
    {
      "cell_type": "code",
      "source": [
        "-- 1. 데이터베이스 생성\n",
        "CREATE DATABASE fishbread_db;\n",
        "\n",
        "-- 2. 데이터베이스 사용\n",
        "USE fishbread_db;\n",
        "\n",
        "-- 3. users 테이블 생성\n",
        "CREATE TABLE users (\n",
        "    user_id INT AUTO_INCREMENT PRIMARY KEY,\n",
        "    name VARCHAR(255) NOT NULL,\n",
        "    age INT NOT NULL,\n",
        "    email VARCHAR(100) UNIQUE,\n",
        "    is_business BOOLEAN\n",
        ");\n",
        "\n",
        "-- 4. orders 테이블 생성\n",
        "CREATE TABLE orders (\n",
        "    order_id INT AUTO_INCREMENT PRIMARY KEY,\n",
        "    user_id INT,\n",
        "    order_date DATE,\n",
        "    amount DECIMAL(10, 2),\n",
        "    FOREIGN KEY (user_id) REFERENCES users(user_id)\n",
        ");\n",
        "\n",
        "-- 5. inventory 테이블 생성\n",
        "CREATE TABLE inventory (\n",
        "    item_id INT AUTO_INCREMENT PRIMARY KEY,\n",
        "    item_name VARCHAR(255) NOT NULL,\n",
        "    quantity INT NOT NULL\n",
        ");\n",
        "\n",
        "-- 6. sales 테이블 생성\n",
        "CREATE TABLE sales (\n",
        "    sale_id INT AUTO_INCREMENT PRIMARY KEY,\n",
        "    order_id INT,\n",
        "    item_id INT,\n",
        "    quantity_sold INT NOT NULL,\n",
        "    FOREIGN KEY (order_id) REFERENCES orders(order_id),\n",
        "    FOREIGN KEY (item_id) REFERENCES inventory(item_id)\n",
        ");\n",
        "\n",
        "-- 7. daily_sales 테이블 생성\n",
        "CREATE TABLE daily_sales (\n",
        "    date DATE PRIMARY KEY,\n",
        "    total_sales DECIMAL(10, 2) NOT NULL\n",
        ");\n"
      ],
      "metadata": {
        "id": "-sy8orEp1_E0"
      },
      "execution_count": null,
      "outputs": []
    },
    {
      "cell_type": "markdown",
      "source": [
        "정리\n",
        "이 SQL 명령어는 붕어빵 가게에서 필요한 사용자, 주문, 재고, 판매, 일 매출 정보를 관리하기 위한 데이터베이스와 테이블을 생성하는 명령어입니다. 각 테이블은 서로 외래 키(Foreign Key) 관계로 연결되어, 데이터를 체계적으로 관리할 수 있습니다."
      ],
      "metadata": {
        "id": "vuiGRfNU2Gjf"
      }
    }
  ]
}